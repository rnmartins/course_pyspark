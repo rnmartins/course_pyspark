{
 "cells": [
  {
   "cell_type": "code",
   "execution_count": null,
   "id": "ea858a7a",
   "metadata": {},
   "outputs": [],
   "source": [
    "from pyspark.sql import SparkSession\n",
    "from pyspark.sql import functions as Func\n",
    "from pyspark.sql.functions import *\n",
    "from pyspark.sql.types import *\n",
    "\n",
    "# Criar uma SparkSession\n",
    "spark = SparkSession.builder.appName(\"Exemplo de Dataframe\").getOrCreate()"
   ]
  },
  {
   "cell_type": "code",
   "execution_count": null,
   "id": "d56c7ef2",
   "metadata": {},
   "outputs": [],
   "source": [
    "#criar um data frame simples, sem schema\n",
    "df1 = spark.createDataFrame([\n",
    "    (\"Pedro\", 10),\n",
    "    (\"Maria\",20),\n",
    "    (\"José\",40)\n",
    "])\n",
    "\n",
    "#show é ação, então tudo o que foi feito anteriormente é executado, lazzy\n",
    "df1.show()"
   ]
  },
  {
   "cell_type": "code",
   "execution_count": null,
   "id": "983920fd",
   "metadata": {},
   "outputs": [],
   "source": [
    "#criar df com schema\n",
    "schema = \"Id INT, Nome STRING\"\n",
    "dados = [\n",
    "    (1, \"Pedro\"),\n",
    "    (2, \"Maria\"),\n",
    "    (3, \"José\")\n",
    "]\n",
    "\n",
    "df2 = spark.createDataFrame(dados, schema)\n",
    "df2.show()"
   ]
  },
  {
   "cell_type": "code",
   "execution_count": null,
   "id": "50aa5e0c",
   "metadata": {},
   "outputs": [],
   "source": [
    "#com transformação\n",
    "schema2 = \"Produtos STRING, Vendas INT\"\n",
    "vendas = [\n",
    "    [\"Caneta\", 10],\n",
    "    [\"Lápis\", 20],\n",
    "    [\"Caneta\", 40]\n",
    "]\n",
    "\n",
    "df3 = spark.createDataFrame(vendas , schema2)\n",
    "\n",
    "#podemos contatenar as operações, neste caso sem persitir\n",
    "df3.groupBy(\"Produtos\").agg(sum(\"Vendas\")).show()"
   ]
  },
  {
   "cell_type": "code",
   "execution_count": null,
   "id": "a9bb2f68",
   "metadata": {},
   "outputs": [],
   "source": [
    "agrupado = df3.groupBy(\"Produtos\").agg(sum(\"Vendas\"))\n",
    "agrupado.show()"
   ]
  },
  {
   "cell_type": "code",
   "execution_count": null,
   "id": "1faa44c9",
   "metadata": {},
   "outputs": [],
   "source": [
    "#selecionar colunas específicas\n",
    "df3.select(\"Produtos\").show()"
   ]
  },
  {
   "cell_type": "code",
   "execution_count": null,
   "id": "2f256e0e",
   "metadata": {},
   "outputs": [],
   "source": [
    "df3.select(\"Produtos\", \"Vendas\").show()"
   ]
  },
  {
   "cell_type": "code",
   "execution_count": null,
   "id": "1fbc4005",
   "metadata": {},
   "outputs": [],
   "source": [
    "#expressões e select\n",
    "df3.select(\"Produtos\", \"Vendas\", expr(\"Vendas * 0.2\")).show()"
   ]
  },
  {
   "cell_type": "code",
   "execution_count": null,
   "id": "b8bd0144",
   "metadata": {},
   "outputs": [],
   "source": [
    "#para ver o schema\n",
    "df3.schema"
   ]
  },
  {
   "cell_type": "code",
   "execution_count": null,
   "id": "b2d0d6d6",
   "metadata": {},
   "outputs": [],
   "source": [
    "#ver colunas\n",
    "df3.columns"
   ]
  },
  {
   "cell_type": "code",
   "execution_count": null,
   "id": "2725ac05",
   "metadata": {},
   "outputs": [],
   "source": [
    "# Define o esquema do arquivo CSV com os tipos de dados para cada coluna\n",
    "schema_arq = \"id INT, \" \\\n",
    "    \"nome STRING, \" \\\n",
    "    \"status STRING, \" \\\n",
    "    \"cidade STRING, \" \\\n",
    "    \"vendas INT, \" \\\n",
    "    \"data STRING\"\n",
    "\n",
    "# Define o caminho do arquivo CSV que será lido\n",
    "despachantes_csv = \"../../arquivos/download/despachantes.csv\"\n",
    "\n",
    "# Lê o arquivo CSV usando o Spark, sem cabeçalho e aplicando o esquema definido\n",
    "despachantes = spark.read.csv(\n",
    "    despachantes_csv, \n",
    "    header = False, \n",
    "    schema = schema_arq\n",
    ")\n",
    "\n",
    "# Exibe as primeiras linhas do DataFrame\n",
    "despachantes.show()\n",
    "\n",
    "# Exibe o esquema do DataFrame\n",
    "despachantes.schema"
   ]
  },
  {
   "cell_type": "code",
   "execution_count": null,
   "id": "e698a0a7",
   "metadata": {},
   "outputs": [],
   "source": [
    "#condição lógica com where\n",
    "despachantes.select(\"id\", \"nome\", \"vendas\").where(Func.col(\"vendas\") > 20).show()"
   ]
  },
  {
   "cell_type": "code",
   "execution_count": null,
   "id": "6123beab",
   "metadata": {},
   "outputs": [],
   "source": [
    "#& para and, | para or, e ~ para not\n",
    "despachantes.select(\"id\",\"nome\",\"vendas\").where((Func.col(\"vendas\") > 20) & (Func.col(\"vendas\") < 40)).show()"
   ]
  },
  {
   "cell_type": "code",
   "execution_count": null,
   "id": "a6a5b9b4",
   "metadata": {},
   "outputs": [],
   "source": [
    "#renomear coluna\n",
    "novodf = despachantes.withColumnRenamed(\"nome\",\"nomes\")\n",
    "novodf.columns"
   ]
  },
  {
   "cell_type": "code",
   "execution_count": null,
   "id": "ee39b858",
   "metadata": {},
   "outputs": [],
   "source": [
    "#coluna data está como string, vamos transformar em texto\n",
    "despachantes2 = despachantes.withColumn(\"data2\", to_timestamp(Func.col(\"data\"), \"yyyy-MM-dd\"))\n",
    "despachantes2.schema"
   ]
  },
  {
   "cell_type": "code",
   "execution_count": null,
   "id": "bf127a57",
   "metadata": {},
   "outputs": [],
   "source": [
    "#operações sobre datas\n",
    "despachantes2.select(year(\"data\")).show()\n",
    "despachantes2.select(year(\"data\")).distinct().show()\n",
    "despachantes2.select(\"nome\",year(\"data\")).orderBy(\"nome\").show()\n",
    "despachantes2.select(\"data\").groupBy(year(\"data\")).count().show()\n",
    "despachantes2.select(Func.sum(\"vendas\")).show()"
   ]
  },
  {
   "cell_type": "code",
   "execution_count": null,
   "id": "4702a514",
   "metadata": {},
   "outputs": [],
   "source": [
    "# Para o Spark no final do script, se ainda não foi parado\n",
    "if spark.sparkContext._jsc.sc().isStopped() == False:\n",
    "    spark.stop()"
   ]
  }
 ],
 "metadata": {
  "kernelspec": {
   "display_name": "pyspark_course",
   "language": "python",
   "name": "python3"
  },
  "language_info": {
   "codemirror_mode": {
    "name": "ipython",
    "version": 3
   },
   "file_extension": ".py",
   "mimetype": "text/x-python",
   "name": "python",
   "nbconvert_exporter": "python",
   "pygments_lexer": "ipython3",
   "version": "3.12.3"
  }
 },
 "nbformat": 4,
 "nbformat_minor": 5
}
