{
 "cells": [
  {
   "cell_type": "code",
   "execution_count": 29,
   "id": "ea858a7a",
   "metadata": {},
   "outputs": [],
   "source": [
    "from pyspark.sql import SparkSession\n",
    "from pyspark.sql import functions as Func\n",
    "from pyspark.sql.functions import *\n",
    "from pyspark.sql.types import *\n",
    "\n",
    "# Criar uma SparkSession\n",
    "spark = SparkSession.builder.appName(\"Exemplo de Dataframe\").getOrCreate()"
   ]
  },
  {
   "cell_type": "code",
   "execution_count": 30,
   "id": "d56c7ef2",
   "metadata": {},
   "outputs": [
    {
     "name": "stdout",
     "output_type": "stream",
     "text": [
      "+-----+---+\n",
      "|   _1| _2|\n",
      "+-----+---+\n",
      "|Pedro| 10|\n",
      "|Maria| 20|\n",
      "| José| 40|\n",
      "+-----+---+\n",
      "\n"
     ]
    }
   ],
   "source": [
    "#criar um data frame simples, sem schema\n",
    "df1 = spark.createDataFrame([\n",
    "    (\"Pedro\", 10),\n",
    "    (\"Maria\",20),\n",
    "    (\"José\",40)\n",
    "])\n",
    "\n",
    "#show é ação, então tudo o que foi feito anteriormente é executado, lazzy\n",
    "df1.show()"
   ]
  },
  {
   "cell_type": "code",
   "execution_count": 31,
   "id": "983920fd",
   "metadata": {},
   "outputs": [
    {
     "name": "stdout",
     "output_type": "stream",
     "text": [
      "+---+-----+\n",
      "| Id| Nome|\n",
      "+---+-----+\n",
      "|  1|Pedro|\n",
      "|  2|Maria|\n",
      "|  3| José|\n",
      "+---+-----+\n",
      "\n"
     ]
    }
   ],
   "source": [
    "#criar df com schema\n",
    "schema = \"Id INT, Nome STRING\"\n",
    "dados = [\n",
    "    (1, \"Pedro\"),\n",
    "    (2, \"Maria\"),\n",
    "    (3, \"José\")\n",
    "]\n",
    "\n",
    "df2 = spark.createDataFrame(dados, schema)\n",
    "df2.show()"
   ]
  },
  {
   "cell_type": "code",
   "execution_count": 32,
   "id": "50aa5e0c",
   "metadata": {},
   "outputs": [
    {
     "name": "stdout",
     "output_type": "stream",
     "text": [
      "+--------+-----------+\n",
      "|Produtos|sum(Vendas)|\n",
      "+--------+-----------+\n",
      "|  Caneta|         50|\n",
      "|   Lápis|         20|\n",
      "+--------+-----------+\n",
      "\n"
     ]
    }
   ],
   "source": [
    "#com transformação\n",
    "schema2 = \"Produtos STRING, Vendas INT\"\n",
    "vendas = [\n",
    "    [\"Caneta\", 10],\n",
    "    [\"Lápis\", 20],\n",
    "    [\"Caneta\", 40]\n",
    "]\n",
    "\n",
    "df3 = spark.createDataFrame(vendas , schema2)\n",
    "\n",
    "#podemos contatenar as operações, neste caso sem persitir\n",
    "df3.groupBy(\"Produtos\").agg(sum(\"Vendas\")).show()"
   ]
  },
  {
   "cell_type": "code",
   "execution_count": 33,
   "id": "a9bb2f68",
   "metadata": {},
   "outputs": [
    {
     "name": "stdout",
     "output_type": "stream",
     "text": [
      "+--------+-----------+\n",
      "|Produtos|sum(Vendas)|\n",
      "+--------+-----------+\n",
      "|  Caneta|         50|\n",
      "|   Lápis|         20|\n",
      "+--------+-----------+\n",
      "\n"
     ]
    }
   ],
   "source": [
    "agrupado = df3.groupBy(\"Produtos\").agg(sum(\"Vendas\"))\n",
    "agrupado.show()"
   ]
  },
  {
   "cell_type": "code",
   "execution_count": 34,
   "id": "1faa44c9",
   "metadata": {},
   "outputs": [
    {
     "name": "stdout",
     "output_type": "stream",
     "text": [
      "+--------+\n",
      "|Produtos|\n",
      "+--------+\n",
      "|  Caneta|\n",
      "|   Lápis|\n",
      "|  Caneta|\n",
      "+--------+\n",
      "\n"
     ]
    }
   ],
   "source": [
    "#selecionar colunas específicas\n",
    "df3.select(\"Produtos\").show()"
   ]
  },
  {
   "cell_type": "code",
   "execution_count": 35,
   "id": "2f256e0e",
   "metadata": {},
   "outputs": [
    {
     "name": "stdout",
     "output_type": "stream",
     "text": [
      "+--------+------+\n",
      "|Produtos|Vendas|\n",
      "+--------+------+\n",
      "|  Caneta|    10|\n",
      "|   Lápis|    20|\n",
      "|  Caneta|    40|\n",
      "+--------+------+\n",
      "\n"
     ]
    }
   ],
   "source": [
    "df3.select(\"Produtos\", \"Vendas\").show()"
   ]
  },
  {
   "cell_type": "code",
   "execution_count": 36,
   "id": "1fbc4005",
   "metadata": {},
   "outputs": [
    {
     "name": "stdout",
     "output_type": "stream",
     "text": [
      "+--------+------+--------------+\n",
      "|Produtos|Vendas|(Vendas * 0.2)|\n",
      "+--------+------+--------------+\n",
      "|  Caneta|    10|           2.0|\n",
      "|   Lápis|    20|           4.0|\n",
      "|  Caneta|    40|           8.0|\n",
      "+--------+------+--------------+\n",
      "\n"
     ]
    }
   ],
   "source": [
    "#expressões e select\n",
    "df3.select(\"Produtos\", \"Vendas\", expr(\"Vendas * 0.2\")).show()"
   ]
  },
  {
   "cell_type": "code",
   "execution_count": 37,
   "id": "b8bd0144",
   "metadata": {},
   "outputs": [
    {
     "data": {
      "text/plain": [
       "StructType([StructField('Produtos', StringType(), True), StructField('Vendas', IntegerType(), True)])"
      ]
     },
     "execution_count": 37,
     "metadata": {},
     "output_type": "execute_result"
    }
   ],
   "source": [
    "#para ver o schema\n",
    "df3.schema"
   ]
  },
  {
   "cell_type": "code",
   "execution_count": 38,
   "id": "b2d0d6d6",
   "metadata": {},
   "outputs": [
    {
     "data": {
      "text/plain": [
       "['Produtos', 'Vendas']"
      ]
     },
     "execution_count": 38,
     "metadata": {},
     "output_type": "execute_result"
    }
   ],
   "source": [
    "#ver colunas\n",
    "df3.columns"
   ]
  },
  {
   "cell_type": "code",
   "execution_count": 39,
   "id": "2725ac05",
   "metadata": {},
   "outputs": [
    {
     "name": "stdout",
     "output_type": "stream",
     "text": [
      "+---+-------------------+------+-------------+------+----------+\n",
      "| id|               nome|status|       cidade|vendas|      data|\n",
      "+---+-------------------+------+-------------+------+----------+\n",
      "|  1|   Carminda Pestana| Ativo|  Santa Maria|    23|2020-08-11|\n",
      "|  2|    Deolinda Vilela| Ativo|Novo Hamburgo|    34|2020-03-05|\n",
      "|  3|   Emídio Dornelles| Ativo| Porto Alegre|    34|2020-02-05|\n",
      "|  4|Felisbela Dornelles| Ativo| Porto Alegre|    36|2020-02-05|\n",
      "|  5|     Graça Ornellas| Ativo| Porto Alegre|    12|2020-02-05|\n",
      "|  6|   Matilde Rebouças| Ativo| Porto Alegre|    22|2019-01-05|\n",
      "|  7|    Noêmia   Orriça| Ativo|  Santa Maria|    45|2019-10-05|\n",
      "|  8|      Roque Vásquez| Ativo| Porto Alegre|    65|2020-03-05|\n",
      "|  9|      Uriel Queiroz| Ativo| Porto Alegre|    54|2018-05-05|\n",
      "| 10|   Viviana Sequeira| Ativo| Porto Alegre|     0|2020-09-05|\n",
      "+---+-------------------+------+-------------+------+----------+\n",
      "\n"
     ]
    },
    {
     "data": {
      "text/plain": [
       "StructType([StructField('id', IntegerType(), True), StructField('nome', StringType(), True), StructField('status', StringType(), True), StructField('cidade', StringType(), True), StructField('vendas', IntegerType(), True), StructField('data', StringType(), True)])"
      ]
     },
     "execution_count": 39,
     "metadata": {},
     "output_type": "execute_result"
    }
   ],
   "source": [
    "# Define o esquema do arquivo CSV com os tipos de dados para cada coluna\n",
    "schema_arq = \"id INT, \" \\\n",
    "    \"nome STRING, \" \\\n",
    "    \"status STRING, \" \\\n",
    "    \"cidade STRING, \" \\\n",
    "    \"vendas INT, \" \\\n",
    "    \"data STRING\"\n",
    "\n",
    "# Define o caminho do arquivo CSV que será lido\n",
    "despachantes_csv = \"../../arquivos/download/despachantes.csv\"\n",
    "\n",
    "# Lê o arquivo CSV usando o Spark, sem cabeçalho e aplicando o esquema definido\n",
    "despachantes = spark.read.csv(\n",
    "    despachantes_csv, \n",
    "    header = False, \n",
    "    schema = schema_arq\n",
    ")\n",
    "\n",
    "# Exibe as primeiras linhas do DataFrame\n",
    "despachantes.show()\n",
    "\n",
    "# Exibe o esquema do DataFrame\n",
    "despachantes.schema"
   ]
  },
  {
   "cell_type": "code",
   "execution_count": 40,
   "id": "e698a0a7",
   "metadata": {},
   "outputs": [
    {
     "name": "stdout",
     "output_type": "stream",
     "text": [
      "+---+-------------------+------+\n",
      "| id|               nome|vendas|\n",
      "+---+-------------------+------+\n",
      "|  1|   Carminda Pestana|    23|\n",
      "|  2|    Deolinda Vilela|    34|\n",
      "|  3|   Emídio Dornelles|    34|\n",
      "|  4|Felisbela Dornelles|    36|\n",
      "|  6|   Matilde Rebouças|    22|\n",
      "|  7|    Noêmia   Orriça|    45|\n",
      "|  8|      Roque Vásquez|    65|\n",
      "|  9|      Uriel Queiroz|    54|\n",
      "+---+-------------------+------+\n",
      "\n"
     ]
    }
   ],
   "source": [
    "#condição lógica com where\n",
    "despachantes.select(\"id\", \"nome\", \"vendas\").where(Func.col(\"vendas\") > 20).show()"
   ]
  },
  {
   "cell_type": "code",
   "execution_count": 41,
   "id": "6123beab",
   "metadata": {},
   "outputs": [
    {
     "name": "stdout",
     "output_type": "stream",
     "text": [
      "+---+-------------------+------+\n",
      "| id|               nome|vendas|\n",
      "+---+-------------------+------+\n",
      "|  1|   Carminda Pestana|    23|\n",
      "|  2|    Deolinda Vilela|    34|\n",
      "|  3|   Emídio Dornelles|    34|\n",
      "|  4|Felisbela Dornelles|    36|\n",
      "|  6|   Matilde Rebouças|    22|\n",
      "+---+-------------------+------+\n",
      "\n"
     ]
    }
   ],
   "source": [
    "#& para and, | para or, e ~ para not\n",
    "despachantes.select(\"id\",\"nome\",\"vendas\").where((Func.col(\"vendas\") > 20) & (Func.col(\"vendas\") < 40)).show()"
   ]
  },
  {
   "cell_type": "code",
   "execution_count": 42,
   "id": "a6a5b9b4",
   "metadata": {},
   "outputs": [
    {
     "data": {
      "text/plain": [
       "['id', 'nomes', 'status', 'cidade', 'vendas', 'data']"
      ]
     },
     "execution_count": 42,
     "metadata": {},
     "output_type": "execute_result"
    }
   ],
   "source": [
    "#renomear coluna\n",
    "novodf = despachantes.withColumnRenamed(\"nome\",\"nomes\")\n",
    "novodf.columns"
   ]
  },
  {
   "cell_type": "code",
   "execution_count": 43,
   "id": "ee39b858",
   "metadata": {},
   "outputs": [
    {
     "data": {
      "text/plain": [
       "StructType([StructField('id', IntegerType(), True), StructField('nome', StringType(), True), StructField('status', StringType(), True), StructField('cidade', StringType(), True), StructField('vendas', IntegerType(), True), StructField('data', StringType(), True), StructField('data2', TimestampType(), True)])"
      ]
     },
     "execution_count": 43,
     "metadata": {},
     "output_type": "execute_result"
    }
   ],
   "source": [
    "#coluna data está como string, vamos transformar em texto\n",
    "despachantes2 = despachantes.withColumn(\"data2\", to_timestamp(Func.col(\"data\"), \"yyyy-MM-dd\"))\n",
    "despachantes2.schema"
   ]
  },
  {
   "cell_type": "code",
   "execution_count": null,
   "id": "bf127a57",
   "metadata": {},
   "outputs": [],
   "source": [
    "#operações sobre datas\n",
    "despachantes2.select(year(\"data\")).show()\n",
    "despachantes2.select(year(\"data\")).distinct().show()\n",
    "despachantes2.select(\"nome\",year(\"data\")).orderBy(\"nome\").show()\n",
    "despachantes2.select(\"data\").groupBy(year(\"data\")).count().show()\n",
    "despachantes2.select(Func.sum(\"vendas\")).show()"
   ]
  },
  {
   "cell_type": "code",
   "execution_count": null,
   "id": "6d4b6c07",
   "metadata": {},
   "outputs": [],
   "source": [
    "# Cria um arquivo no formato parquet\n",
    "despachantes.write.mode(\"overwrite\").format(\"parquet\").save(\"df_import_parquet\")"
   ]
  },
  {
   "cell_type": "code",
   "execution_count": 48,
   "id": "b6341521",
   "metadata": {},
   "outputs": [],
   "source": [
    "# Cria um arquivo no formato csv\n",
    "despachantes.write.mode(\"overwrite\").format(\"csv\").save(\"df_import_csv\")"
   ]
  },
  {
   "cell_type": "code",
   "execution_count": 49,
   "id": "0b1363d4",
   "metadata": {},
   "outputs": [],
   "source": [
    "# Cria um arquivo no formato json\n",
    "despachantes.write.mode(\"overwrite\").format(\"json\").save(\"df_import_json\")"
   ]
  },
  {
   "cell_type": "code",
   "execution_count": 50,
   "id": "e9f36c47",
   "metadata": {},
   "outputs": [],
   "source": [
    "# Cria um arquivo no formato orc\n",
    "despachantes.write.mode(\"overwrite\").format(\"orc\").save(\"df_import_orc\")"
   ]
  },
  {
   "cell_type": "code",
   "execution_count": null,
   "id": "4702a514",
   "metadata": {},
   "outputs": [],
   "source": [
    "# Para o Spark no final do script, se ainda não foi parado\n",
    "# if spark.sparkContext._jsc.sc().isStopped() == False:\n",
    "#     spark.stop()"
   ]
  }
 ],
 "metadata": {
  "kernelspec": {
   "display_name": "pyspark_course",
   "language": "python",
   "name": "python3"
  },
  "language_info": {
   "codemirror_mode": {
    "name": "ipython",
    "version": 3
   },
   "file_extension": ".py",
   "mimetype": "text/x-python",
   "name": "python",
   "nbconvert_exporter": "python",
   "pygments_lexer": "ipython3",
   "version": "3.12.3"
  }
 },
 "nbformat": 4,
 "nbformat_minor": 5
}
