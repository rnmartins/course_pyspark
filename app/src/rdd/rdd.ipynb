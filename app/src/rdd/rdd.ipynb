{
 "cells": [
  {
   "cell_type": "code",
   "execution_count": null,
   "id": "d463e18f",
   "metadata": {},
   "outputs": [],
   "source": [
    "from pyspark.sql import SparkSession\n",
    "\n",
    "# Criar uma SparkSession\n",
    "spark = SparkSession.builder.appName(\"RDD Exemplo\").getOrCreate()\n",
    "\n",
    "# Obter o SparkContext a partir da SparkSession\n",
    "sc = spark.sparkContext\n",
    "\n",
    "# Criar RDD\n",
    "numeros = sc.parallelize([1, 2, 3, 4, 5, 6, 7, 8, 9, 10])\n",
    "\n",
    "#todos os elementos\n",
    "numeros.collect()"
   ]
  },
  {
   "cell_type": "code",
   "execution_count": null,
   "id": "75978066",
   "metadata": {},
   "outputs": [],
   "source": [
    "# diversas ações \n",
    "numeros.take(5)\n"
   ]
  },
  {
   "cell_type": "code",
   "execution_count": null,
   "id": "c276866e",
   "metadata": {},
   "outputs": [],
   "source": [
    "numeros.top(5)"
   ]
  },
  {
   "cell_type": "code",
   "execution_count": null,
   "id": "84139592",
   "metadata": {},
   "outputs": [],
   "source": [
    "#operações aritiméticas\n",
    "print(numeros.count())\n",
    "print(numeros.mean())\n",
    "print(numeros.sum())\n",
    "print(numeros.max())\n",
    "print(numeros.min())\n",
    "print(numeros.stdev())"
   ]
  },
  {
   "cell_type": "code",
   "execution_count": null,
   "id": "156205a2",
   "metadata": {},
   "outputs": [],
   "source": [
    "#transformações\n",
    "#filtro\n",
    "filtro = numeros.filter(lambda filtro: filtro > 2)\n",
    "filtro.collect()"
   ]
  },
  {
   "cell_type": "code",
   "execution_count": null,
   "id": "e4bb7e0e",
   "metadata": {},
   "outputs": [],
   "source": [
    "#amostra com reposição\n",
    "amostra = numeros.sample(True, 0.5, 1)\n",
    "amostra.collect()"
   ]
  },
  {
   "cell_type": "code",
   "execution_count": null,
   "id": "033dc461",
   "metadata": {},
   "outputs": [],
   "source": [
    "#map, aplica uma função\n",
    "mapa = numeros.map(lambda mapa: mapa * 2)\n",
    "mapa.collect()"
   ]
  },
  {
   "cell_type": "code",
   "execution_count": null,
   "id": "863cd5dc",
   "metadata": {},
   "outputs": [],
   "source": [
    "#criamos outro RDD\n",
    "numeros2 = sc.parallelize([6,7,8,9,10])"
   ]
  },
  {
   "cell_type": "code",
   "execution_count": null,
   "id": "7924a128",
   "metadata": {},
   "outputs": [],
   "source": [
    "#operador Union - gera rdd com os 2 conjuntos\n",
    "uniao = numeros.union(numeros2)\n",
    "uniao.collect()"
   ]
  },
  {
   "cell_type": "code",
   "execution_count": null,
   "id": "02c1123d",
   "metadata": {},
   "outputs": [],
   "source": [
    "#intersecção\n",
    "interseccao = numeros.intersection(numeros2)\n",
    "interseccao.collect()"
   ]
  },
  {
   "cell_type": "code",
   "execution_count": null,
   "id": "ee5cc49f",
   "metadata": {},
   "outputs": [],
   "source": [
    "#subtração\n",
    "subtrai = numeros.subtract(numeros2)\n",
    "subtrai.collect()\n"
   ]
  },
  {
   "cell_type": "code",
   "execution_count": null,
   "id": "7a8a827e",
   "metadata": {},
   "outputs": [],
   "source": [
    "#produto cartesiano\n",
    "cartesiano = numeros.cartesian(numeros2)\n",
    "cartesiano.collect()\n"
   ]
  },
  {
   "cell_type": "code",
   "execution_count": null,
   "id": "22469202",
   "metadata": {},
   "outputs": [],
   "source": [
    "#ação, contar por valor numero de vezes que cada valor aparece\n",
    "cartesiano.countByValue()"
   ]
  },
  {
   "cell_type": "code",
   "execution_count": null,
   "id": "2920b386",
   "metadata": {},
   "outputs": [],
   "source": [
    "#compras, codigo do cliente e valor\n",
    "compras = sc.parallelize([(1, 200), (2, 300), (3, 120), (4, 250), (5, 78)])\n",
    "#separar chaves\n",
    "chaves = compras.keys()\n",
    "chaves.collect()\n",
    "#separar valores\n",
    "valores = compras.values()\n",
    "valores.collect()\n",
    "#conta elementos por chave\n",
    "compras.countByKey()"
   ]
  },
  {
   "cell_type": "code",
   "execution_count": null,
   "id": "3d8aedf3",
   "metadata": {},
   "outputs": [],
   "source": [
    "#aplica função no valor, sem aterar chave\n",
    "soma = compras.mapValues(lambda soma: soma + 1)\n",
    "soma.collect()"
   ]
  },
  {
   "cell_type": "code",
   "execution_count": null,
   "id": "d5a6b6a3",
   "metadata": {},
   "outputs": [],
   "source": [
    "#agrupa por chave\n",
    "agrupa = compras.groupByKey().mapValues(list)\n",
    "agrupa.collect()"
   ]
  },
  {
   "cell_type": "code",
   "execution_count": null,
   "id": "b230e6b2",
   "metadata": {},
   "outputs": [],
   "source": [
    "#debitos, codigo cliente e valor\n",
    "debitos = sc.parallelize([(1, 20), (2, 300)])"
   ]
  },
  {
   "cell_type": "code",
   "execution_count": null,
   "id": "c1a85527",
   "metadata": {},
   "outputs": [],
   "source": [
    "#inner join entre compras e debitos\n",
    "resultado = compras.join(debitos)\n",
    "resultado.collect()"
   ]
  },
  {
   "cell_type": "code",
   "execution_count": null,
   "id": "7bfe4662",
   "metadata": {},
   "outputs": [],
   "source": [
    "#remove e mostra apenas quem tem debito\n",
    "semdebito = compras.subtractByKey(debitos)\n",
    "semdebito.collect()"
   ]
  },
  {
   "cell_type": "code",
   "execution_count": 38,
   "id": "e541ce43",
   "metadata": {},
   "outputs": [],
   "source": [
    "# Para o Spark no final do script, se ainda não foi parado\n",
    "if spark.sparkContext._jsc.sc().isStopped() == False:\n",
    "    spark.stop()"
   ]
  }
 ],
 "metadata": {
  "kernelspec": {
   "display_name": "pyspark_course",
   "language": "python",
   "name": "python3"
  },
  "language_info": {
   "codemirror_mode": {
    "name": "ipython",
    "version": 3
   },
   "file_extension": ".py",
   "mimetype": "text/x-python",
   "name": "python",
   "nbconvert_exporter": "python",
   "pygments_lexer": "ipython3",
   "version": "3.12.3"
  }
 },
 "nbformat": 4,
 "nbformat_minor": 5
}
